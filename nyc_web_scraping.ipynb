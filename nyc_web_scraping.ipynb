{
 "cells": [
  {
   "cell_type": "code",
   "execution_count": null,
   "id": "98923e5e",
   "metadata": {},
   "outputs": [],
   "source": [
    "import os\n",
    "import requests\n",
    "\n",
    "# Updated base URL for yellow taxi data files\n",
    "base_url = 'https://d37ci6vzurychx.cloudfront.net/trip-data/yellow_tripdata_{year}-{month}.parquet'\n",
    "\n",
    "# List of years and months to download\n",
    "years = ['2022', '2023', '2024', '2025']  # Add or remove years as needed\n",
    "months = [f'{month:02}' for month in range(1, 13)]  # Months from 01 to 12\n",
    "\n",
    "# Directory to save the files\n",
    "download_dir = r\"C:nyc_taxi_data\"\n",
    "os.makedirs(download_dir, exist_ok=True)\n",
    "\n",
    "# Function to download a file\n",
    "def download_file(url, dest):\n",
    "    response = requests.get(url, stream=True)\n",
    "    if response.status_code == 200:\n",
    "        with open(dest, 'wb') as file:\n",
    "            for chunk in response.iter_content(chunk_size=1024):\n",
    "                file.write(chunk)\n",
    "        print(f'Successfully downloaded {dest}')\n",
    "    else:\n",
    "        print(f'Failed to download {url} with status code {response.status_code}')\n",
    "\n",
    "# Loop to download all files\n",
    "for year in years:\n",
    "    for month in months:\n",
    "        file_name = f'yellow_tripdata_{year}-{month}.parquet'\n",
    "        # Building the correct URL\n",
    "        file_url = f'https://d37ci6vzurychx.cloudfront.net/trip-data/yellow_tripdata_{year}-{month}.parquet'\n",
    "        dest_path = os.path.join(download_dir, file_name)\n",
    "        download_file(file_url, dest_path)\n"
   ]
  }
 ],
 "metadata": {
  "language_info": {
   "name": "python"
  }
 },
 "nbformat": 4,
 "nbformat_minor": 5
}
